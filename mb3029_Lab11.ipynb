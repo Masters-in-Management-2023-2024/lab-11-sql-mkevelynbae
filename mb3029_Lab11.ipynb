{
  "cells": [
    {
      "cell_type": "markdown",
      "metadata": {
        "id": "3Pd7eRiUfOx3"
      },
      "source": [
        "# Lab Exercise: SQL Analysis with Polars\n",
        "\n",
        "In this lab, you'll practice SQL queries using Polars' built-in SQL functionality. Complete each exercise by writing the appropriate SQL query."
      ]
    },
    {
      "cell_type": "code",
      "execution_count": null,
      "metadata": {
        "id": "ZqI1wy1VfOx5",
        "colab": {
          "base_uri": "https://localhost:8080/"
        },
        "outputId": "958b64f7-087a-4a48-805c-2c9b48866e23"
      },
      "outputs": [
        {
          "output_type": "stream",
          "name": "stdout",
          "text": [
            "Setup complete! Tables available:\n",
            "shape: (5, 1)\n",
            "┌──────────┐\n",
            "│ name     │\n",
            "│ ---      │\n",
            "│ str      │\n",
            "╞══════════╡\n",
            "│ airlines │\n",
            "│ airports │\n",
            "│ flights  │\n",
            "│ planes   │\n",
            "│ weather  │\n",
            "└──────────┘\n"
          ]
        }
      ],
      "source": [
        "# Setup - Run this cell first\n",
        "import polars as pl\n",
        "\n",
        "# Load data\n",
        "airlines = pl.read_csv('https://raw.githubusercontent.com/philhetzel/opan5510-class11/refs/heads/main/data/nyc_airlines.csv', null_values='NA')\n",
        "airports = pl.read_csv('https://raw.githubusercontent.com/philhetzel/opan5510-class11/refs/heads/main/data/nyc_airports.csv', null_values='NA')\n",
        "flights = pl.read_csv('https://raw.githubusercontent.com/philhetzel/opan5510-class11/refs/heads/main/data/nyc_flights.csv', null_values='NA')\n",
        "planes = pl.read_csv('https://raw.githubusercontent.com/philhetzel/opan5510-class11/refs/heads/main/data/nyc_planes.csv', null_values='NA')\n",
        "weather = pl.read_csv('https://raw.githubusercontent.com/philhetzel/opan5510-class11/refs/heads/main/data/nyc_weather.csv', null_values='NA', ignore_errors=True)\n",
        "\n",
        "flights = flights.with_columns(pl.col(\"time_hour\").str.strptime(pl.Datetime))\n",
        "weather = weather.with_columns(pl.col(\"time_hour\").str.strptime(pl.Datetime))\n",
        "\n",
        "# Create SQL context\n",
        "ctx = pl.SQLContext(\n",
        "    airlines=airlines,\n",
        "    airports=airports,\n",
        "    flights=flights,\n",
        "    planes=planes,\n",
        "    weather=weather,\n",
        "    eager=True\n",
        ")\n",
        "\n",
        "print(\"Setup complete! Tables available:\")\n",
        "print(ctx.execute(\"SHOW TABLES\"))"
      ]
    },
    {
      "cell_type": "markdown",
      "metadata": {
        "id": "3ezY04LsfOx6"
      },
      "source": [
        "## Exercise 1: Basic Queries\n",
        "\n",
        "### 1.1 Find all unique carriers in the airlines table"
      ]
    },
    {
      "cell_type": "code",
      "execution_count": null,
      "metadata": {
        "id": "bpcoc1FsfOx7",
        "colab": {
          "base_uri": "https://localhost:8080/"
        },
        "outputId": "f28afd3e-665c-4df3-c9e0-dc66f6439e75"
      },
      "outputs": [
        {
          "output_type": "stream",
          "name": "stdout",
          "text": [
            "shape: (16, 1)\n",
            "┌─────────┐\n",
            "│ carrier │\n",
            "│ ---     │\n",
            "│ str     │\n",
            "╞═════════╡\n",
            "│ 9E      │\n",
            "│ AA      │\n",
            "│ AS      │\n",
            "│ B6      │\n",
            "│ DL      │\n",
            "│ …       │\n",
            "│ UA      │\n",
            "│ US      │\n",
            "│ VX      │\n",
            "│ WN      │\n",
            "│ YV      │\n",
            "└─────────┘\n"
          ]
        }
      ],
      "source": [
        "result = ctx.execute(\"\"\"\n",
        "SELECT DISTINCT carrier\n",
        "FROM airlines\n",
        "\"\"\")\n",
        "\n",
        "print(result)\n"
      ]
    },
    {
      "cell_type": "markdown",
      "metadata": {
        "id": "RWZli0-IfOx7"
      },
      "source": [
        "### 1.2 Find the top 10 destinations by number of flights"
      ]
    },
    {
      "cell_type": "code",
      "execution_count": null,
      "metadata": {
        "id": "tci9I0fqfOx7",
        "colab": {
          "base_uri": "https://localhost:8080/"
        },
        "outputId": "330951f9-4bf9-41e0-b10f-350322d9614d"
      },
      "outputs": [
        {
          "output_type": "stream",
          "name": "stdout",
          "text": [
            "shape: (10, 2)\n",
            "┌──────┬─────────────┐\n",
            "│ dest ┆ num_flights │\n",
            "│ ---  ┆ ---         │\n",
            "│ str  ┆ u32         │\n",
            "╞══════╪═════════════╡\n",
            "│ ORD  ┆ 17283       │\n",
            "│ ATL  ┆ 17215       │\n",
            "│ LAX  ┆ 16174       │\n",
            "│ BOS  ┆ 15508       │\n",
            "│ MCO  ┆ 14082       │\n",
            "│ CLT  ┆ 14064       │\n",
            "│ SFO  ┆ 13331       │\n",
            "│ FLL  ┆ 12055       │\n",
            "│ MIA  ┆ 11728       │\n",
            "│ DCA  ┆ 9705        │\n",
            "└──────┴─────────────┘\n"
          ]
        }
      ],
      "source": [
        "result = ctx.execute(\"\"\"\n",
        "SELECT dest, COUNT(*) AS num_flights\n",
        "FROM flights\n",
        "GROUP BY dest\n",
        "ORDER BY num_flights DESC\n",
        "LIMIT 10\n",
        "\"\"\")\n",
        "\n",
        "print(result)"
      ]
    },
    {
      "cell_type": "markdown",
      "metadata": {
        "id": "DoiX4tnMfOx7"
      },
      "source": [
        "### 1.3 Find all flights that departed more than 2 hours late (120 minutes)"
      ]
    },
    {
      "cell_type": "code",
      "execution_count": null,
      "metadata": {
        "id": "gAbGavWqfOx7",
        "colab": {
          "base_uri": "https://localhost:8080/"
        },
        "outputId": "1b870ad9-d8f8-4973-ca88-12e65faf703c"
      },
      "outputs": [
        {
          "output_type": "stream",
          "name": "stdout",
          "text": [
            "shape: (9_723, 19)\n",
            "┌──────┬───────┬─────┬──────────┬───┬──────────┬──────┬────────┬─────────────────────────┐\n",
            "│ year ┆ month ┆ day ┆ dep_time ┆ … ┆ distance ┆ hour ┆ minute ┆ time_hour               │\n",
            "│ ---  ┆ ---   ┆ --- ┆ ---      ┆   ┆ ---      ┆ ---  ┆ ---    ┆ ---                     │\n",
            "│ i64  ┆ i64   ┆ i64 ┆ i64      ┆   ┆ i64      ┆ i64  ┆ i64    ┆ datetime[μs, UTC]       │\n",
            "╞══════╪═══════╪═════╪══════════╪═══╪══════════╪══════╪════════╪═════════════════════════╡\n",
            "│ 2013 ┆ 1     ┆ 1   ┆ 848      ┆ … ┆ 184      ┆ 18   ┆ 35     ┆ 2013-01-01 23:00:00 UTC │\n",
            "│ 2013 ┆ 1     ┆ 1   ┆ 957      ┆ … ┆ 200      ┆ 7    ┆ 33     ┆ 2013-01-01 12:00:00 UTC │\n",
            "│ 2013 ┆ 1     ┆ 1   ┆ 1114     ┆ … ┆ 1416     ┆ 9    ┆ 0      ┆ 2013-01-01 14:00:00 UTC │\n",
            "│ 2013 ┆ 1     ┆ 1   ┆ 1540     ┆ … ┆ 1598     ┆ 13   ┆ 38     ┆ 2013-01-01 18:00:00 UTC │\n",
            "│ 2013 ┆ 1     ┆ 1   ┆ 1815     ┆ … ┆ 1134     ┆ 13   ┆ 25     ┆ 2013-01-01 18:00:00 UTC │\n",
            "│ …    ┆ …     ┆ …   ┆ …        ┆ … ┆ …        ┆ …    ┆ …      ┆ …                       │\n",
            "│ 2013 ┆ 9     ┆ 30  ┆ 1823     ┆ … ┆ 765      ┆ 15   ┆ 45     ┆ 2013-09-30 19:00:00 UTC │\n",
            "│ 2013 ┆ 9     ┆ 30  ┆ 1951     ┆ … ┆ 708      ┆ 16   ┆ 49     ┆ 2013-09-30 20:00:00 UTC │\n",
            "│ 2013 ┆ 9     ┆ 30  ┆ 2053     ┆ … ┆ 746      ┆ 18   ┆ 15     ┆ 2013-09-30 22:00:00 UTC │\n",
            "│ 2013 ┆ 9     ┆ 30  ┆ 2159     ┆ … ┆ 301      ┆ 18   ┆ 45     ┆ 2013-09-30 22:00:00 UTC │\n",
            "│ 2013 ┆ 9     ┆ 30  ┆ 2235     ┆ … ┆ 944      ┆ 20   ┆ 1      ┆ 2013-10-01 00:00:00 UTC │\n",
            "└──────┴───────┴─────┴──────────┴───┴──────────┴──────┴────────┴─────────────────────────┘\n"
          ]
        }
      ],
      "source": [
        "result = ctx.execute(\"\"\"\n",
        "SELECT *\n",
        "FROM flights\n",
        "WHERE dep_delay > 120\n",
        "\"\"\")\n",
        "\n",
        "print(result)"
      ]
    },
    {
      "cell_type": "markdown",
      "metadata": {
        "id": "pBrJkajbfOx7"
      },
      "source": [
        "## Exercise 2: Aggregation\n",
        "\n",
        "### 2.1 Calculate the average departure delay for each origin airport"
      ]
    },
    {
      "cell_type": "code",
      "execution_count": null,
      "metadata": {
        "id": "xxpjFD_RfOx8",
        "colab": {
          "base_uri": "https://localhost:8080/"
        },
        "outputId": "e7b49583-73a1-422d-8d94-2597df94d748"
      },
      "outputs": [
        {
          "output_type": "stream",
          "name": "stdout",
          "text": [
            "shape: (3, 2)\n",
            "┌────────┬───────────────┐\n",
            "│ origin ┆ avg_dep_delay │\n",
            "│ ---    ┆ ---           │\n",
            "│ str    ┆ f64           │\n",
            "╞════════╪═══════════════╡\n",
            "│ EWR    ┆ 15.107954     │\n",
            "│ JFK    ┆ 12.112159     │\n",
            "│ LGA    ┆ 10.346876     │\n",
            "└────────┴───────────────┘\n"
          ]
        }
      ],
      "source": [
        "result = ctx.execute(\"\"\"\n",
        "SELECT origin, AVG(dep_delay) AS avg_dep_delay\n",
        "FROM flights\n",
        "GROUP BY origin\n",
        "\"\"\")\n",
        "\n",
        "print(result)\n"
      ]
    },
    {
      "cell_type": "markdown",
      "metadata": {
        "id": "-0yGNUbzfOx8"
      },
      "source": [
        "### 2.2 Find the busiest month of the year\n",
        "\n",
        "Count the number of flights per month and find which month has the most flights."
      ]
    },
    {
      "cell_type": "code",
      "execution_count": null,
      "metadata": {
        "id": "oUrd5WIpfOx8",
        "colab": {
          "base_uri": "https://localhost:8080/"
        },
        "outputId": "b5c3c775-6fc3-45a7-a62b-fe09a77b8b69"
      },
      "outputs": [
        {
          "output_type": "stream",
          "name": "stdout",
          "text": [
            "shape: (1, 2)\n",
            "┌───────┬─────────────┐\n",
            "│ month ┆ num_flights │\n",
            "│ ---   ┆ ---         │\n",
            "│ i64   ┆ u32         │\n",
            "╞═══════╪═════════════╡\n",
            "│ 7     ┆ 29425       │\n",
            "└───────┴─────────────┘\n"
          ]
        }
      ],
      "source": [
        "result = ctx.execute(\"\"\"\n",
        "SELECT month, COUNT(*) AS num_flights\n",
        "FROM flights\n",
        "GROUP BY month\n",
        "ORDER BY num_flights DESC\n",
        "LIMIT 1\n",
        "\"\"\")\n",
        "\n",
        "print(result)\n"
      ]
    },
    {
      "cell_type": "markdown",
      "metadata": {
        "id": "bRqmVAISfOx8"
      },
      "source": [
        "### 2.3 Calculate the on-time performance rate for each carrier\n",
        "\n",
        "Consider a flight on-time if the departure delay is <= 15 minutes."
      ]
    },
    {
      "cell_type": "code",
      "execution_count": null,
      "metadata": {
        "id": "4lsAywVqfOx8",
        "colab": {
          "base_uri": "https://localhost:8080/"
        },
        "outputId": "93b181ae-6c15-4060-ecc4-f8fb5efc7a2e"
      },
      "outputs": [
        {
          "output_type": "stream",
          "name": "stdout",
          "text": [
            "shape: (16, 2)\n",
            "┌─────────┬──────────────┐\n",
            "│ carrier ┆ on_time_rate │\n",
            "│ ---     ┆ ---          │\n",
            "│ str     ┆ f64          │\n",
            "╞═════════╪══════════════╡\n",
            "│ US      ┆ 84.987339    │\n",
            "│ YV      ┆ 64.725458    │\n",
            "│ AA      ┆ 82.437594    │\n",
            "│ FL      ┆ 71.687117    │\n",
            "│ B6      ┆ 76.537018    │\n",
            "│ …       ┆ …            │\n",
            "│ DL      ┆ 83.074205    │\n",
            "│ UA      ┆ 78.043126    │\n",
            "│ 9E      ┆ 70.124594    │\n",
            "│ OO      ┆ 71.875       │\n",
            "│ VX      ┆ 82.099961    │\n",
            "└─────────┴──────────────┘\n"
          ]
        }
      ],
      "source": [
        "result = ctx.execute(\"\"\"\n",
        "SELECT\n",
        "    carrier,\n",
        "    100.0 * SUM(CASE WHEN dep_delay <= 15 THEN 1 ELSE 0 END) / COUNT(*) AS on_time_rate\n",
        "FROM flights\n",
        "GROUP BY carrier\n",
        "\"\"\")\n",
        "\n",
        "print(result)"
      ]
    },
    {
      "cell_type": "markdown",
      "metadata": {
        "id": "iWM8J7U2fOx8"
      },
      "source": [
        "## Exercise 3: Joins\n",
        "\n",
        "### 3.1 List all flights with their airline names (not just carrier codes)\n",
        "\n",
        "Show the first 20 flights with carrier code, airline name, flight number, origin, and destination."
      ]
    },
    {
      "cell_type": "code",
      "execution_count": null,
      "metadata": {
        "id": "k8U_buLNfOx8",
        "colab": {
          "base_uri": "https://localhost:8080/"
        },
        "outputId": "3fbde9dd-eb07-437d-9fd7-bca68c71fe3e"
      },
      "outputs": [
        {
          "output_type": "stream",
          "name": "stdout",
          "text": [
            "shape: (20, 5)\n",
            "┌─────────┬────────────────────────┬────────┬────────┬──────┐\n",
            "│ carrier ┆ airline_name           ┆ flight ┆ origin ┆ dest │\n",
            "│ ---     ┆ ---                    ┆ ---    ┆ ---    ┆ ---  │\n",
            "│ str     ┆ str                    ┆ i64    ┆ str    ┆ str  │\n",
            "╞═════════╪════════════════════════╪════════╪════════╪══════╡\n",
            "│ UA      ┆ United Air Lines Inc.  ┆ 1545   ┆ EWR    ┆ IAH  │\n",
            "│ UA      ┆ United Air Lines Inc.  ┆ 1714   ┆ LGA    ┆ IAH  │\n",
            "│ AA      ┆ American Airlines Inc. ┆ 1141   ┆ JFK    ┆ MIA  │\n",
            "│ B6      ┆ JetBlue Airways        ┆ 725    ┆ JFK    ┆ BQN  │\n",
            "│ DL      ┆ Delta Air Lines Inc.   ┆ 461    ┆ LGA    ┆ ATL  │\n",
            "│ …       ┆ …                      ┆ …      ┆ …      ┆ …    │\n",
            "│ B6      ┆ JetBlue Airways        ┆ 1806   ┆ JFK    ┆ BOS  │\n",
            "│ UA      ┆ United Air Lines Inc.  ┆ 1187   ┆ EWR    ┆ LAS  │\n",
            "│ B6      ┆ JetBlue Airways        ┆ 371    ┆ LGA    ┆ FLL  │\n",
            "│ MQ      ┆ Envoy Air              ┆ 4650   ┆ LGA    ┆ ATL  │\n",
            "│ B6      ┆ JetBlue Airways        ┆ 343    ┆ EWR    ┆ PBI  │\n",
            "└─────────┴────────────────────────┴────────┴────────┴──────┘\n"
          ]
        }
      ],
      "source": [
        "result = ctx.execute(\"\"\"\n",
        "SELECT\n",
        "    f.carrier,\n",
        "    a.name AS airline_name,\n",
        "    f.flight,\n",
        "    f.origin,\n",
        "    f.dest\n",
        "FROM flights AS f\n",
        "JOIN airlines AS a\n",
        "    ON f.carrier = a.carrier\n",
        "LIMIT 20\n",
        "\"\"\")\n",
        "\n",
        "print(result)"
      ]
    },
    {
      "cell_type": "markdown",
      "metadata": {
        "id": "3D8cxsqAfOx8"
      },
      "source": [
        "### 3.2 Find the average age of planes for each carrier\n",
        "\n",
        "Hint: The planes table has a `year` column for manufacture year. Calculate age based on 2013."
      ]
    },
    {
      "cell_type": "code",
      "execution_count": null,
      "metadata": {
        "id": "x3vXUi8-fOx8",
        "colab": {
          "base_uri": "https://localhost:8080/"
        },
        "outputId": "13e08f8b-f099-4b31-f7dc-42de88c7255a"
      },
      "outputs": [
        {
          "output_type": "stream",
          "name": "stdout",
          "text": [
            "shape: (16, 2)\n",
            "┌─────────┬───────────────┐\n",
            "│ carrier ┆ avg_plane_age │\n",
            "│ ---     ┆ ---           │\n",
            "│ str     ┆ f64           │\n",
            "╞═════════╪═══════════════╡\n",
            "│ AA      ┆ 25.869426     │\n",
            "│ FL      ┆ 11.385829     │\n",
            "│ US      ┆ 9.103663      │\n",
            "│ F9      ┆ 4.87874       │\n",
            "│ 9E      ┆ 7.101053      │\n",
            "│ …       ┆ …             │\n",
            "│ B6      ┆ 6.686702      │\n",
            "│ AS      ┆ 3.33662       │\n",
            "│ EV      ┆ 11.308998     │\n",
            "│ HA      ┆ 1.548387      │\n",
            "│ YV      ┆ 9.313758      │\n",
            "└─────────┴───────────────┘\n"
          ]
        }
      ],
      "source": [
        "result = ctx.execute(\"\"\"\n",
        "SELECT\n",
        "    f.carrier,\n",
        "    AVG(2013 - p.year) AS avg_plane_age\n",
        "FROM flights AS f\n",
        "JOIN planes AS p\n",
        "    ON f.tailnum = p.tailnum\n",
        "GROUP BY f.carrier\n",
        "\"\"\")\n",
        "\n",
        "print(result)"
      ]
    },
    {
      "cell_type": "markdown",
      "metadata": {
        "id": "21Ap4UTUfOx8"
      },
      "source": [
        "### 3.3 Find flights that experienced both departure delays and bad weather\n",
        "\n",
        "Join flights with weather data and find flights where departure delay > 30 minutes and either wind_speed > 20 or precip > 0.1"
      ]
    },
    {
      "cell_type": "code",
      "execution_count": null,
      "metadata": {
        "id": "K_WpMNuufOx8",
        "colab": {
          "base_uri": "https://localhost:8080/"
        },
        "outputId": "9dfa4e80-0380-45b7-89f0-7a7a307488d8"
      },
      "outputs": [
        {
          "output_type": "stream",
          "name": "stdout",
          "text": [
            "shape: (3_758, 6)\n",
            "┌────────┬────────┬──────┬───────────┬────────────┬────────┐\n",
            "│ flight ┆ origin ┆ dest ┆ dep_delay ┆ wind_speed ┆ precip │\n",
            "│ ---    ┆ ---    ┆ ---  ┆ ---       ┆ ---        ┆ ---    │\n",
            "│ i64    ┆ str    ┆ str  ┆ i64       ┆ f64        ┆ i64    │\n",
            "╞════════╪════════╪══════╪═══════════╪════════════╪════════╡\n",
            "│ 21     ┆ JFK    ┆ TPA  ┆ 47        ┆ 21.86482   ┆ 0      │\n",
            "│ 199    ┆ JFK    ┆ LAS  ┆ 116       ┆ 21.86482   ┆ 0      │\n",
            "│ 4090   ┆ EWR    ┆ JAX  ┆ 39        ┆ 20.71404   ┆ 0      │\n",
            "│ 4231   ┆ EWR    ┆ IAD  ┆ 40        ┆ 24.16638   ┆ 0      │\n",
            "│ 1010   ┆ JFK    ┆ BOS  ┆ 33        ┆ 20.71404   ┆ 0      │\n",
            "│ …      ┆ …      ┆ …    ┆ …         ┆ …          ┆ …      │\n",
            "│ 2347   ┆ LGA    ┆ ATL  ┆ 41        ┆ 20.71404   ┆ 0      │\n",
            "│ 5503   ┆ LGA    ┆ PIT  ┆ 97        ┆ 20.71404   ┆ 0      │\n",
            "│ 135    ┆ JFK    ┆ PHX  ┆ 42        ┆ 21.86482   ┆ 0      │\n",
            "│ 797    ┆ JFK    ┆ LAX  ┆ 46        ┆ 21.86482   ┆ 0      │\n",
            "│ 985    ┆ JFK    ┆ BOS  ┆ 45        ┆ 21.86482   ┆ 0      │\n",
            "└────────┴────────┴──────┴───────────┴────────────┴────────┘\n"
          ]
        }
      ],
      "source": [
        "result = ctx.execute(\"\"\"\n",
        "SELECT\n",
        "    f.flight,\n",
        "    f.origin,\n",
        "    f.dest,\n",
        "    f.dep_delay,\n",
        "    w.wind_speed,\n",
        "    w.precip\n",
        "FROM flights AS f\n",
        "JOIN weather AS w\n",
        "    ON f.origin = w.origin AND f.time_hour = w.time_hour\n",
        "WHERE f.dep_delay > 30\n",
        "  AND (w.wind_speed > 20 OR w.precip > 0.1)\n",
        "\"\"\")\n",
        "\n",
        "print(result)\n"
      ]
    },
    {
      "cell_type": "markdown",
      "metadata": {
        "id": "k7OUbVlHfOx9"
      },
      "source": [
        "## Exercise 4: Advanced Queries\n",
        "\n",
        "### 4.1 Find the most popular aircraft types (by number of flights)\n",
        "\n",
        "Join flights with planes to get manufacturer and model information. Show top 10."
      ]
    },
    {
      "cell_type": "code",
      "execution_count": null,
      "metadata": {
        "id": "2JQymQZJfOx9",
        "colab": {
          "base_uri": "https://localhost:8080/"
        },
        "outputId": "aacfb4f2-c378-4ef7-c5c2-92df7b59c64e"
      },
      "outputs": [
        {
          "output_type": "stream",
          "name": "stdout",
          "text": [
            "shape: (10, 3)\n",
            "┌───────────────────────────────┬─────────────────┬─────────────┐\n",
            "│ manufacturer                  ┆ model           ┆ num_flights │\n",
            "│ ---                           ┆ ---             ┆ ---         │\n",
            "│ str                           ┆ str             ┆ u32         │\n",
            "╞═══════════════════════════════╪═════════════════╪═════════════╡\n",
            "│ AIRBUS                        ┆ A320-232        ┆ 31278       │\n",
            "│ EMBRAER                       ┆ EMB-145LR       ┆ 28027       │\n",
            "│ EMBRAER                       ┆ ERJ 190-100 IGW ┆ 23716       │\n",
            "│ AIRBUS INDUSTRIE              ┆ A320-232        ┆ 14553       │\n",
            "│ EMBRAER                       ┆ EMB-145XR       ┆ 14051       │\n",
            "│ BOEING                        ┆ 737-824         ┆ 13809       │\n",
            "│ BOMBARDIER INC                ┆ CL-600-2D24     ┆ 11807       │\n",
            "│ BOEING                        ┆ 737-7H4         ┆ 10389       │\n",
            "│ BOEING                        ┆ 757-222         ┆ 9150        │\n",
            "│ MCDONNELL DOUGLAS AIRCRAFT CO ┆ MD-88           ┆ 8932        │\n",
            "└───────────────────────────────┴─────────────────┴─────────────┘\n"
          ]
        }
      ],
      "source": [
        "result = ctx.execute(\"\"\"\n",
        "SELECT\n",
        "    p.manufacturer,\n",
        "    p.model,\n",
        "    COUNT(*) AS num_flights\n",
        "FROM flights AS f\n",
        "JOIN planes AS p\n",
        "    ON f.tailnum = p.tailnum\n",
        "GROUP BY p.manufacturer, p.model\n",
        "ORDER BY num_flights DESC\n",
        "LIMIT 10\n",
        "\"\"\")\n",
        "\n",
        "print(result)\n"
      ]
    },
    {
      "cell_type": "markdown",
      "metadata": {
        "id": "bxKmqyyhfOx9"
      },
      "source": [
        "### 4.2 Analyze route performance\n",
        "\n",
        "Find the top 10 routes (origin-destination pairs) with:\n",
        "- Total number of flights\n",
        "- Average departure delay\n",
        "- Percentage of flights delayed more than 30 minutes\n",
        "\n",
        "Include airport names, not just codes."
      ]
    },
    {
      "cell_type": "code",
      "execution_count": null,
      "metadata": {
        "id": "ISleQIwWfOx9",
        "colab": {
          "base_uri": "https://localhost:8080/"
        },
        "outputId": "2d0e2b17-14ce-474c-8a36-c96f34e7f695"
      },
      "outputs": [
        {
          "output_type": "stream",
          "name": "stdout",
          "text": [
            "shape: (10, 7)\n",
            "┌────────┬────────────────┬──────┬────────────────┬───────────────┬───────────────┬────────────────┐\n",
            "│ origin ┆ origin_name    ┆ dest ┆ dest_name      ┆ total_flights ┆ avg_dep_delay ┆ pct_delayed_ov │\n",
            "│ ---    ┆ ---            ┆ ---  ┆ ---            ┆ ---           ┆ ---           ┆ er_30          │\n",
            "│ str    ┆ str            ┆ str  ┆ str            ┆ u32           ┆ f64           ┆ ---            │\n",
            "│        ┆                ┆      ┆                ┆               ┆               ┆ f64            │\n",
            "╞════════╪════════════════╪══════╪════════════════╪═══════════════╪═══════════════╪════════════════╡\n",
            "│ JFK    ┆ John F Kennedy ┆ LAX  ┆ Los Angeles    ┆ 11262         ┆ 8.522508      ┆ 9.829515       │\n",
            "│        ┆ Intl           ┆      ┆ Intl           ┆               ┆               ┆                │\n",
            "│ LGA    ┆ La Guardia     ┆ ATL  ┆ Hartsfield     ┆ 10263         ┆ 11.448621     ┆ 12.247881      │\n",
            "│        ┆                ┆      ┆ Jackson        ┆               ┆               ┆                │\n",
            "│        ┆                ┆      ┆ Atlanta Int…   ┆               ┆               ┆                │\n",
            "│ LGA    ┆ La Guardia     ┆ ORD  ┆ Chicago Ohare  ┆ 8857          ┆ 10.740758     ┆ 13.345377      │\n",
            "│        ┆                ┆      ┆ Intl           ┆               ┆               ┆                │\n",
            "│ JFK    ┆ John F Kennedy ┆ SFO  ┆ San Francisco  ┆ 8204          ┆ 11.952691     ┆ 12.116041      │\n",
            "│        ┆ Intl           ┆      ┆ Intl           ┆               ┆               ┆                │\n",
            "│ LGA    ┆ La Guardia     ┆ CLT  ┆ Charlotte      ┆ 6168          ┆ 8.965321      ┆ 11.948768      │\n",
            "│        ┆                ┆      ┆ Douglas Intl   ┆               ┆               ┆                │\n",
            "│ EWR    ┆ Newark Liberty ┆ ORD  ┆ Chicago Ohare  ┆ 6100          ┆ 14.644163     ┆ 16.0           │\n",
            "│        ┆ Intl           ┆      ┆ Intl           ┆               ┆               ┆                │\n",
            "│ JFK    ┆ John F Kennedy ┆ BOS  ┆ General Edward ┆ 5898          ┆ 11.694953     ┆ 13.767379      │\n",
            "│        ┆ Intl           ┆      ┆ Lawrence Logan ┆               ┆               ┆                │\n",
            "│        ┆                ┆      ┆ …              ┆               ┆               ┆                │\n",
            "│ LGA    ┆ La Guardia     ┆ MIA  ┆ Miami Intl     ┆ 5781          ┆ 7.361747      ┆ 9.462031       │\n",
            "│ JFK    ┆ John F Kennedy ┆ MCO  ┆ Orlando Intl   ┆ 5464          ┆ 10.601583     ┆ 12.719619      │\n",
            "│        ┆ Intl           ┆      ┆                ┆               ┆               ┆                │\n",
            "│ EWR    ┆ Newark Liberty ┆ BOS  ┆ General Edward ┆ 5327          ┆ 12.54561      ┆ 14.9052        │\n",
            "│        ┆ Intl           ┆      ┆ Lawrence Logan ┆               ┆               ┆                │\n",
            "│        ┆                ┆      ┆ …              ┆               ┆               ┆                │\n",
            "└────────┴────────────────┴──────┴────────────────┴───────────────┴───────────────┴────────────────┘\n"
          ]
        }
      ],
      "source": [
        "result = ctx.execute(\"\"\"\n",
        "SELECT\n",
        "    f.origin,\n",
        "    MAX(origin_air.name) AS origin_name,\n",
        "    f.dest,\n",
        "    MAX(dest_air.name) AS dest_name,\n",
        "    COUNT(*) AS total_flights,\n",
        "    AVG(f.dep_delay) AS avg_dep_delay,\n",
        "    100.0 * SUM(CASE WHEN f.dep_delay > 30 THEN 1 ELSE 0 END) / COUNT(*) AS pct_delayed_over_30\n",
        "FROM flights AS f\n",
        "JOIN airports AS origin_air\n",
        "    ON f.origin = origin_air.faa\n",
        "JOIN airports AS dest_air\n",
        "    ON f.dest = dest_air.faa\n",
        "GROUP BY f.origin, f.dest\n",
        "ORDER BY total_flights DESC\n",
        "LIMIT 10\n",
        "\"\"\")\n",
        "\n",
        "print(result)\n"
      ]
    },
    {
      "cell_type": "markdown",
      "metadata": {
        "id": "64f0DGQJfOx9"
      },
      "source": [
        "## Bonus: Compare with Polars\n",
        "\n",
        "### Choose one of the queries above and implement it using Polars\n",
        "\n",
        "This will help you understand the relationship between SQL and Polars operations."
      ]
    },
    {
      "cell_type": "code",
      "execution_count": null,
      "metadata": {
        "id": "_YkID5WYfOx9",
        "colab": {
          "base_uri": "https://localhost:8080/"
        },
        "outputId": "25de3971-d8bf-4128-98d6-92d943e9e8e2"
      },
      "outputs": [
        {
          "output_type": "stream",
          "name": "stdout",
          "text": [
            "SQL Result:\n",
            "shape: (3, 2)\n",
            "┌────────┬───────────┐\n",
            "│ origin ┆ avg_delay │\n",
            "│ ---    ┆ ---       │\n",
            "│ str    ┆ f64       │\n",
            "╞════════╪═══════════╡\n",
            "│ EWR    ┆ 15.107954 │\n",
            "│ JFK    ┆ 12.112159 │\n",
            "│ LGA    ┆ 10.346876 │\n",
            "└────────┴───────────┘\n",
            "\n",
            "Polars Result:\n",
            "shape: (3, 2)\n",
            "┌────────┬───────────┐\n",
            "│ origin ┆ avg_delay │\n",
            "│ ---    ┆ ---       │\n",
            "│ str    ┆ f64       │\n",
            "╞════════╪═══════════╡\n",
            "│ EWR    ┆ 15.107954 │\n",
            "│ JFK    ┆ 12.112159 │\n",
            "│ LGA    ┆ 10.346876 │\n",
            "└────────┴───────────┘\n",
            "shape: (10, 2)\n",
            "┌──────┬─────────────┐\n",
            "│ dest ┆ num_flights │\n",
            "│ ---  ┆ ---         │\n",
            "│ str  ┆ u32         │\n",
            "╞══════╪═════════════╡\n",
            "│ ORD  ┆ 17283       │\n",
            "│ ATL  ┆ 17215       │\n",
            "│ LAX  ┆ 16174       │\n",
            "│ BOS  ┆ 15508       │\n",
            "│ MCO  ┆ 14082       │\n",
            "│ CLT  ┆ 14064       │\n",
            "│ SFO  ┆ 13331       │\n",
            "│ FLL  ┆ 12055       │\n",
            "│ MIA  ┆ 11728       │\n",
            "│ DCA  ┆ 9705        │\n",
            "└──────┴─────────────┘\n"
          ]
        },
        {
          "output_type": "stream",
          "name": "stderr",
          "text": [
            "/tmp/ipython-input-3684602391.py:35: DeprecationWarning: `pl.count()` is deprecated. Please use `pl.len()` instead.\n",
            "  .agg(pl.count().alias('num_flights'))\n"
          ]
        }
      ],
      "source": [
        "# Example: Let's implement Exercise 2.1 (average delay by origin) in Polars\n",
        "\n",
        "# SQL version (for reference)\n",
        "sql_result = ctx.execute(\"\"\"\n",
        "    SELECT\n",
        "        origin,\n",
        "        AVG(dep_delay) as avg_delay\n",
        "    FROM flights\n",
        "    WHERE dep_delay IS NOT NULL\n",
        "    GROUP BY origin\n",
        "    ORDER BY avg_delay DESC\n",
        "\"\"\")\n",
        "\n",
        "# Polars version\n",
        "polars_result = (\n",
        "    flights\n",
        "    .filter(pl.col('dep_delay').is_not_null())\n",
        "    .group_by('origin')\n",
        "    .agg(pl.col('dep_delay').mean().alias('avg_delay'))\n",
        "    .sort('avg_delay', descending=True)\n",
        ")\n",
        "\n",
        "print(\"SQL Result:\")\n",
        "print(sql_result)\n",
        "print(\"\\nPolars Result:\")\n",
        "print(polars_result)\n",
        "\n",
        "# Now implement one of your own queries in Polars below:\n",
        "# Your Polars code here\n",
        "\n",
        "# Polars version of top 10 destinations by number of flights\n",
        "top_destinations = (\n",
        "    flights\n",
        "    .group_by('dest')\n",
        "    .agg(pl.count().alias('num_flights'))\n",
        "    .sort('num_flights', descending=True)\n",
        "    .limit(10)\n",
        ")\n",
        "\n",
        "print(top_destinations)"
      ]
    },
    {
      "cell_type": "markdown",
      "metadata": {
        "id": "c48b8319"
      },
      "source": [
        "Since the SQL query is encountering difficulties, here is the solution using native Polars DataFrame operations to analyze route performance."
      ]
    }
  ],
  "metadata": {
    "kernelspec": {
      "display_name": "Python 3",
      "language": "python",
      "name": "python3"
    },
    "language_info": {
      "codemirror_mode": {
        "name": "ipython",
        "version": 3
      },
      "file_extension": ".py",
      "mimetype": "text/x-python",
      "name": "python",
      "nbconvert_exporter": "python",
      "pygments_lexer": "ipython3",
      "version": "3.8.0"
    },
    "colab": {
      "provenance": []
    }
  },
  "nbformat": 4,
  "nbformat_minor": 0
}